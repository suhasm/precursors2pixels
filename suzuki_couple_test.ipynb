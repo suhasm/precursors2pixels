{
 "cells": [
  {
   "cell_type": "code",
   "execution_count": 1,
   "metadata": {},
   "outputs": [],
   "source": [
    "import pandas as pd\n",
    "from tqdm import tqdm\n",
    "from rdkit.Chem import AllChem\n",
    "from rdkit import Chem\n",
    "from rdkit.Chem import Descriptors\n",
    "from rdkit.Chem import rdqueries"
   ]
  },
  {
   "cell_type": "code",
   "execution_count": 2,
   "metadata": {},
   "outputs": [],
   "source": [
    "halides_file_name = 'aromatic_halides_with_id.csv'\n",
    "acids_file_name = 'aromatic_boronic_acids_with_id.csv'\n",
    "\n",
    "halide_df = pd.read_csv('input_data/' + halides_file_name)\n",
    "acid_df = pd.read_csv('input_data/' + acids_file_name)"
   ]
  },
  {
   "cell_type": "code",
   "execution_count": 19,
   "metadata": {},
   "outputs": [],
   "source": [
    "def suzuki_couple(boronic_acid_smiles, halide_smiles):\n",
    "    # Define SMILES strings\n",
    "    # boronic_acid_smiles = 'B(C1=C(C(=C(C=C1)C=O)F)F)(O)O'\n",
    "\n",
    "    # halide_smiles = 'C1(=C(N=C(N=C1Cl)Cl)Cl)Cl'\n",
    "    # halide_smiles = 'C1=C(C(=CS1)Br)Br'\n",
    "    # Create RDKit molecule objects\n",
    "    boronic_acid = Chem.MolFromSmiles(boronic_acid_smiles)\n",
    "    halide = Chem.MolFromSmiles(halide_smiles)\n",
    "\n",
    "    # Define Suzuki coupling reaction using reaction SMARTS\n",
    "    # suzuki_coupling_rxn_smarts = '[c:1][X:4].[c:2][B:5]([OH:6])[OH:7]>>[c:1][c:2].[X:4].[OH:6].[OH:7]'\n",
    "    # suzuki_coupling_rxn_smarts = '[n:11][c:1]([X:4])[n:10].[c:2][B:5]([OH:6])[OH:7]>>[n:11][c:1]([c:2])[n:10].[B:5][X:4][OH:6][OH:7]'\n",
    "    suzuki_coupling_rxn_smarts = '[n:11][c:1]([X:4])[a:10].[c:2][B:5]([O:6])[O:7]>>[n:11][c:1]([c:2])[a:10].[B:5][X:4][O:6][O:7]'\n",
    "\n",
    "    suzuki_coupling_rxn = AllChem.ReactionFromSmarts(suzuki_coupling_rxn_smarts)\n",
    "\n",
    "    # Perform the reaction\n",
    "    product_set = suzuki_coupling_rxn.RunReactants((halide, boronic_acid))\n",
    "\n",
    "    # Collect the products and convert them to SMILES\n",
    "    products = []\n",
    "    for product in product_set:\n",
    "        products.append(Chem.MolToSmiles(product[0], isomericSmiles=True))\n",
    "\n",
    "    return set(products)\n"
   ]
  },
  {
   "cell_type": "code",
   "execution_count": 20,
   "metadata": {},
   "outputs": [
    {
     "data": {
      "text/plain": [
       "{'Clc1nc(Cl)c(Cl)c(c2ccccc2)n1', 'Clc1nc(c2ccccc2)nc(Cl)c1Cl'}"
      ]
     },
     "execution_count": 20,
     "metadata": {},
     "output_type": "execute_result"
    }
   ],
   "source": [
    "boronic_acid_smiles = 'C1(B2OO2)=CC=CC=C1'\n",
    "halide_smiles = 'C1(=C(N=C(N=C1Cl)Cl)Cl)Cl'\n",
    "suzuki_couple(boronic_acid_smiles,halide_smiles)"
   ]
  },
  {
   "cell_type": "code",
   "execution_count": 11,
   "metadata": {},
   "outputs": [
    {
     "data": {
      "text/plain": [
       "{'O=Cc1ccc(c2nc(Cl)c(Cl)c(Cl)n2)c(F)c1F',\n",
       " 'O=Cc1ccc(c2nc(Cl)nc(Cl)c2Cl)c(F)c1F'}"
      ]
     },
     "execution_count": 11,
     "metadata": {},
     "output_type": "execute_result"
    }
   ],
   "source": []
  },
  {
   "cell_type": "code",
   "execution_count": null,
   "metadata": {},
   "outputs": [],
   "source": []
  }
 ],
 "metadata": {
  "kernelspec": {
   "display_name": "lgpholed",
   "language": "python",
   "name": "python3"
  },
  "language_info": {
   "codemirror_mode": {
    "name": "ipython",
    "version": 3
   },
   "file_extension": ".py",
   "mimetype": "text/x-python",
   "name": "python",
   "nbconvert_exporter": "python",
   "pygments_lexer": "ipython3",
   "version": "3.9.16"
  },
  "orig_nbformat": 4
 },
 "nbformat": 4,
 "nbformat_minor": 2
}
